{
 "cells": [
  {
   "cell_type": "code",
   "execution_count": null,
   "metadata": {},
   "outputs": [],
   "source": [
    "import pandas as pd\n",
    "import numpy as np\n",
    "import matplotlib.pyplot as plt"
   ]
  },
  {
   "cell_type": "code",
   "execution_count": null,
   "metadata": {},
   "outputs": [],
   "source": [
    "df = pd.read_csv('Student Mental health.csv')\n",
    "df.head()"
   ]
  },
  {
   "cell_type": "code",
   "execution_count": null,
   "metadata": {},
   "outputs": [],
   "source": [
    "df.columns"
   ]
  },
  {
   "cell_type": "code",
   "execution_count": null,
   "metadata": {},
   "outputs": [],
   "source": [
    "df = df.rename(columns={'Choose your gender' : 'Gender', \n",
    "                        'What is your course?' : 'Course',\n",
    "                        'Your current year of Study' : 'Years',\n",
    "                        'What is your CGPA?' : 'CGPA',\n",
    "                        'Marital status' : 'isMarried',\n",
    "                        'Do you have Depression?' : 'isDepression',\n",
    "                        'Do you have Anxiety?' : 'isAnxiety',\n",
    "                        'Do you have Panic attack?' : 'isPanicAttack',\n",
    "                        'Did you seek any specialist for a treatment?' : 'isTreatment'})"
   ]
  },
  {
   "cell_type": "code",
   "execution_count": null,
   "metadata": {},
   "outputs": [],
   "source": [
    "df.head()"
   ]
  },
  {
   "cell_type": "code",
   "execution_count": null,
   "metadata": {},
   "outputs": [],
   "source": [
    "df['Years'].unique()"
   ]
  },
  {
   "cell_type": "code",
   "execution_count": null,
   "metadata": {},
   "outputs": [],
   "source": [
    "df['Years'] = df['Years'].replace({'year ': '', 'Year ': ''}, regex=True)"
   ]
  },
  {
   "cell_type": "code",
   "execution_count": null,
   "metadata": {},
   "outputs": [],
   "source": [
    "df['Years'].unique()"
   ]
  },
  {
   "cell_type": "code",
   "execution_count": null,
   "metadata": {},
   "outputs": [],
   "source": [
    "print(df.apply(lambda col: col.unique()))"
   ]
  },
  {
   "cell_type": "code",
   "execution_count": null,
   "metadata": {},
   "outputs": [],
   "source": [
    "df.count()"
   ]
  },
  {
   "cell_type": "code",
   "execution_count": null,
   "metadata": {},
   "outputs": [],
   "source": [
    "plt.hist(df['Age'], bins=7)"
   ]
  },
  {
   "cell_type": "code",
   "execution_count": null,
   "metadata": {},
   "outputs": [],
   "source": [
    "df['Age'] = df['Age'].fillna(df['Age'].median())"
   ]
  },
  {
   "cell_type": "code",
   "execution_count": null,
   "metadata": {},
   "outputs": [],
   "source": [
    "df.isna().count()"
   ]
  },
  {
   "cell_type": "code",
   "execution_count": null,
   "metadata": {},
   "outputs": [],
   "source": [
    "df['Age'].unique()"
   ]
  },
  {
   "cell_type": "code",
   "execution_count": null,
   "metadata": {},
   "outputs": [],
   "source": [
    "df['Course'].unique()"
   ]
  },
  {
   "cell_type": "code",
   "execution_count": null,
   "metadata": {},
   "outputs": [],
   "source": [
    "df['Course'] = df['Course'].str.rstrip().str.title()"
   ]
  },
  {
   "cell_type": "code",
   "execution_count": null,
   "metadata": {},
   "outputs": [],
   "source": [
    "df['Course'].unique()"
   ]
  },
  {
   "cell_type": "code",
   "execution_count": null,
   "metadata": {},
   "outputs": [],
   "source": [
    "df['Course'] = df['Course'].replace({'Engine' : 'Engineering',\n",
    "                                    'Engin' : 'Engineering',\n",
    "                                    'Pendidikan Islam' : 'Islamic Education', \n",
    "                                    'Law' : 'Laws',\n",
    "                                    'Econs' : 'Economic',\n",
    "                                    'Diploma Nursing' : 'Vocational Nursing',\n",
    "                                    'It' : 'IT',\n",
    "                                    'Bcs' : 'Computer Science',\n",
    "                                    'Benl' : 'Human Sciences',\n",
    "                                    'Bit' : 'IT',\n",
    "                                    'Irkhs' : 'Islamic Education', \n",
    "                                    'Kenms' : 'Economic',\n",
    "                                    'Kirkhs' : 'Islamic Education',\n",
    "                                    'Taasl' : 'Islamic Education',\n",
    "                                    'Usuluddin' : 'Islamic Education',\n",
    "                                    'Fiqh' : 'Islamic Education',\n",
    "                                    'Fiqh Fatwa' : 'Islamic Education',\n",
    "                                    'Enm' : 'Economic',\n",
    "                                    'Koe' : 'Engineering',\n",
    "                                    'Cts' : 'Vocational Engineering',\n",
    "                                    'Diploma Tesl' : 'Vocational Human Science'})"
   ]
  },
  {
   "cell_type": "code",
   "execution_count": null,
   "metadata": {},
   "outputs": [],
   "source": [
    "df.loc[df['Course'].str.contains('Kop|Ala|Mhsc|Malcom', case=False, regex=True), 'Course'] = 'Others'"
   ]
  },
  {
   "cell_type": "code",
   "execution_count": null,
   "metadata": {},
   "outputs": [],
   "source": [
    "df.loc[df['Course'] == 'Others']"
   ]
  },
  {
   "cell_type": "code",
   "execution_count": null,
   "metadata": {},
   "outputs": [],
   "source": [
    "df['isTreatment'].unique()"
   ]
  },
  {
   "cell_type": "code",
   "execution_count": null,
   "metadata": {},
   "outputs": [],
   "source": [
    "df.groupby(['Course']).count()"
   ]
  },
  {
   "cell_type": "code",
   "execution_count": null,
   "metadata": {},
   "outputs": [],
   "source": [
    "df['isDepression'] = df['isDepression'].apply(lambda x : 1 if (x == 'Yes') else 0 )\n",
    "df['isTreatment'] = df['isTreatment'].apply(lambda x : 1 if (x == 'Yes') else 0 )\n",
    "df['isMarried'] = df['isMarried'].apply(lambda x : 1 if (x == 'Yes') else 0 )"
   ]
  },
  {
   "cell_type": "code",
   "execution_count": null,
   "metadata": {},
   "outputs": [],
   "source": [
    "df.columns.unique()"
   ]
  },
  {
   "cell_type": "code",
   "execution_count": null,
   "metadata": {},
   "outputs": [],
   "source": [
    "df = df.drop(['Timestamp','isAnxiety', 'isPanicAttack'], axis=1)"
   ]
  },
  {
   "cell_type": "code",
   "execution_count": null,
   "metadata": {},
   "outputs": [],
   "source": [
    "df.head()"
   ]
  }
 ],
 "metadata": {
  "kernelspec": {
   "display_name": "Python 3.9.13 64-bit (windows store)",
   "language": "python",
   "name": "python3"
  },
  "language_info": {
   "codemirror_mode": {
    "name": "ipython",
    "version": 3
   },
   "file_extension": ".py",
   "mimetype": "text/x-python",
   "name": "python",
   "nbconvert_exporter": "python",
   "pygments_lexer": "ipython3",
   "version": "3.9.13"
  },
  "orig_nbformat": 4,
  "vscode": {
   "interpreter": {
    "hash": "fa91d067795fc865c88e7614ed657add52bd0bbaa7dd2135fcef194f2c46f9b4"
   }
  }
 },
 "nbformat": 4,
 "nbformat_minor": 2
}
